{
  "nbformat": 4,
  "nbformat_minor": 0,
  "metadata": {
    "colab": {
      "name": "Number_detection .ipynb",
      "provenance": [],
      "collapsed_sections": [],
      "authorship_tag": "ABX9TyOLHOee1uq0TbPASa1RFtrx",
      "include_colab_link": true
    },
    "kernelspec": {
      "name": "python3",
      "display_name": "Python 3"
    },
    "language_info": {
      "name": "python"
    }
  },
  "cells": [
    {
      "cell_type": "markdown",
      "metadata": {
        "id": "view-in-github",
        "colab_type": "text"
      },
      "source": [
        "<a href=\"https://colab.research.google.com/github/YunChenLi/tensorflow-deep-learning/blob/main/Number_detection_.ipynb\" target=\"_parent\"><img src=\"https://colab.research.google.com/assets/colab-badge.svg\" alt=\"Open In Colab\"/></a>"
      ]
    },
    {
      "cell_type": "code",
      "metadata": {
        "colab": {
          "base_uri": "https://localhost:8080/"
        },
        "id": "m31H4y74YSYF",
        "outputId": "3e232e08-9c4a-4c06-9c46-250478bd2f26"
      },
      "source": [
        "import numpy as np\n",
        "from keras.models import Sequential\n",
        "from keras.datasets import mnist\n",
        "from keras.layers import Dense, Dropout, Activation, Flatten\n",
        "from keras.utils import np_utils #用來後續將label標籤轉換為one-hot-encoding\n",
        "from matplotlib import pyplot as plt\n",
        "\n",
        "#載入mnist 資料庫訓練資料，並自動分為 訓練組 以及 測試組\n",
        "(X_train, y_train), (X_test, y_test) = mnist.load_data()\n"
      ],
      "execution_count": null,
      "outputs": [
        {
          "output_type": "stream",
          "text": [
            "Downloading data from https://storage.googleapis.com/tensorflow/tf-keras-datasets/mnist.npz\n",
            "11493376/11490434 [==============================] - 0s 0us/step\n",
            "11501568/11490434 [==============================] - 0s 0us/step\n"
          ],
          "name": "stdout"
        }
      ]
    },
    {
      "cell_type": "code",
      "metadata": {
        "colab": {
          "base_uri": "https://localhost:8080/"
        },
        "id": "Sk9xw6j0vQ7e",
        "outputId": "66fb75fb-c255-4118-f123-b85192bee6f6"
      },
      "source": [
        "y_train #標籤是0-9的數字 資料型別為unit8"
      ],
      "execution_count": null,
      "outputs": [
        {
          "output_type": "execute_result",
          "data": {
            "text/plain": [
              "array([5, 0, 4, ..., 5, 6, 8], dtype=uint8)"
            ]
          },
          "metadata": {},
          "execution_count": 4
        }
      ]
    },
    {
      "cell_type": "code",
      "metadata": {
        "colab": {
          "base_uri": "https://localhost:8080/"
        },
        "id": "olAhSHEh_-uG",
        "outputId": "2d1f2cf6-5b7d-4578-8487-40ccaf6ce73b"
      },
      "source": [
        "X_train.shape #60000張資料 28*28像數 "
      ],
      "execution_count": null,
      "outputs": [
        {
          "output_type": "execute_result",
          "data": {
            "text/plain": [
              "(60000, 28, 28)"
            ]
          },
          "metadata": {},
          "execution_count": 10
        }
      ]
    },
    {
      "cell_type": "code",
      "metadata": {
        "id": "hsCBH-1gYW93",
        "colab": {
          "base_uri": "https://localhost:8080/"
        },
        "outputId": "b2954239-dbb5-4856-a8d4-83f8cf47346b"
      },
      "source": [
        "from keras import models \n",
        "from keras import layers\n",
        "\n",
        "#建立簡單的建模\n",
        "model = Sequential()\n",
        "#add input layer, 隱藏層(hidden layer)(通常超過兩層的hidden layers就是深度學習)有256個變數\n",
        "#model.add(layers.Dense(512, activation = 'relu', imput_shape=(28*28,)))\n",
        "model.add(Dense(units = 256, input_dim=784, kernel_initializer='normal', activation='relu'))\n",
        "\n",
        "#Add output layer\n",
        "#model.add(layer.Dense(10, activation = 'softmax))\n",
        "model.add(Dense(units=10, kernel_initializer='normal', activation='softmax'))\n",
        "#activation function: 非線性函數（像是sigmoid適合使用二分法在[0,1]之間 中間只有一小段模糊地帶適用於二分法\n",
        "#activation function: softmax 可以將Ｙ轉為機率值 且所有類別機率值為1, \n",
        "\n",
        "#選擇loss function優化方法跟成效衡量方式 #以上已經有兩層Ｄense layers, 還需再加上以下進行編譯complilation\n",
        "#optimizer = 'rmsprop', 'adam'\n",
        "model.compile(loss = 'categorical_crossentropy', optimizer = 'rmsprop', metrics = ['accuracy'])\n",
        "\n",
        "#將training的label進行 one-hot-encoding, convert number to one-hot-encoding(像是7轉化one-hot-encofing會變成0000001000, 第7個數字會是1)\n",
        "y_TrainOneHot = np_utils.to_categorical(y_train)\n",
        "y_TestOneHot = np_utils.to_categorical(y_test)\n",
        "\n",
        "#將training的input轉為2維(28,28)->(28*28)\n",
        "X_train_2D = X_train.reshape(60000, 28*28).astype('float32')\n",
        "X_test_2D = X_test.reshape(10000, 28*28).astype('float32')\n",
        "\n",
        "X_train_norm = X_train_2D/255\n",
        "X_test_norm = X_test_2D/255\n",
        "\n",
        "#進行訓練，訓練過程會存在train history變數中\n",
        "train_history = model.fit(x=X_train_norm, y=y_TrainOneHot, validation_split = 0.2, epochs = 10, batch_size=800, verbose=2)\n",
        "\n",
        "#訓練成果(分數)\n",
        "scores = model.evaluate(X_test_norm, y_TestOneHot)\n",
        "print(\"\\t[info]Accuracy of testing data = {:2.1f}%\".format(scores[1]*100.0))\n",
        "\n",
        "#Scores(測試集的準確率)比訓練資料準確率低一點，中間的差距就是過度配適（overfitting)\n",
        "\n",
        "#預測\n",
        "X = X_test_norm[0:10,:]\n",
        "predictions = model.predict(X)\n",
        "\n",
        "#get prediction result\n",
        "print(predictions)\n",
        "\n"
      ],
      "execution_count": null,
      "outputs": [
        {
          "output_type": "stream",
          "text": [
            "Epoch 1/10\n",
            "60/60 - 1s - loss: 0.6428 - accuracy: 0.8406 - val_loss: 0.3215 - val_accuracy: 0.9110\n",
            "Epoch 2/10\n",
            "60/60 - 1s - loss: 0.2949 - accuracy: 0.9173 - val_loss: 0.2458 - val_accuracy: 0.9320\n",
            "Epoch 3/10\n",
            "60/60 - 1s - loss: 0.2258 - accuracy: 0.9361 - val_loss: 0.1992 - val_accuracy: 0.9440\n",
            "Epoch 4/10\n",
            "60/60 - 1s - loss: 0.1854 - accuracy: 0.9473 - val_loss: 0.1703 - val_accuracy: 0.9528\n",
            "Epoch 5/10\n",
            "60/60 - 1s - loss: 0.1552 - accuracy: 0.9554 - val_loss: 0.1526 - val_accuracy: 0.9561\n",
            "Epoch 6/10\n",
            "60/60 - 1s - loss: 0.1330 - accuracy: 0.9628 - val_loss: 0.1329 - val_accuracy: 0.9619\n",
            "Epoch 7/10\n",
            "60/60 - 1s - loss: 0.1150 - accuracy: 0.9668 - val_loss: 0.1277 - val_accuracy: 0.9631\n",
            "Epoch 8/10\n",
            "60/60 - 1s - loss: 0.1001 - accuracy: 0.9713 - val_loss: 0.1120 - val_accuracy: 0.9661\n",
            "Epoch 9/10\n",
            "60/60 - 1s - loss: 0.0879 - accuracy: 0.9747 - val_loss: 0.1049 - val_accuracy: 0.9679\n",
            "Epoch 10/10\n",
            "60/60 - 1s - loss: 0.0777 - accuracy: 0.9783 - val_loss: 0.1045 - val_accuracy: 0.9688\n",
            "313/313 [==============================] - 1s 2ms/step - loss: 0.0998 - accuracy: 0.9695\n",
            "\t[info]Accuracy of testing data = 97.0%\n",
            "WARNING:tensorflow:5 out of the last 5 calls to <function Model.make_predict_function.<locals>.predict_function at 0x7fe6cbdc38c0> triggered tf.function retracing. Tracing is expensive and the excessive number of tracings could be due to (1) creating @tf.function repeatedly in a loop, (2) passing tensors with different shapes, (3) passing Python objects instead of tensors. For (1), please define your @tf.function outside of the loop. For (2), @tf.function has experimental_relax_shapes=True option that relaxes argument shapes that can avoid unnecessary retracing. For (3), please refer to https://www.tensorflow.org/guide/function#controlling_retracing and https://www.tensorflow.org/api_docs/python/tf/function for  more details.\n",
            "[[1.21888279e-05 1.01663971e-07 2.93927878e-04 5.81578584e-03\n",
            "  1.09199361e-08 2.54281417e-06 3.83984754e-11 9.93718147e-01\n",
            "  8.08270397e-06 1.49271509e-04]\n",
            " [6.50507900e-07 8.64464819e-05 9.99514341e-01 3.53339128e-04\n",
            "  1.82762984e-12 6.90718616e-06 3.00034174e-07 1.17999751e-12\n",
            "  3.79586672e-05 6.34658548e-10]\n",
            " [6.87462889e-05 9.87118363e-01 2.92176730e-03 2.06675078e-03\n",
            "  2.16577100e-04 2.07522171e-04 3.49400565e-04 4.30239365e-03\n",
            "  2.63548666e-03 1.13040238e-04]\n",
            " [9.99970078e-01 2.52490295e-09 1.03784914e-05 6.65557820e-07\n",
            "  6.45555502e-08 6.13007273e-07 6.64783602e-06 2.00919544e-06\n",
            "  1.84940390e-07 9.19138802e-06]\n",
            " [1.13274786e-04 5.51761900e-07 2.36238528e-04 4.92330946e-06\n",
            "  9.82042730e-01 5.75019840e-06 5.46878437e-05 2.49646138e-04\n",
            "  2.92295445e-04 1.69999637e-02]\n",
            " [8.87529313e-06 9.92413938e-01 2.98144238e-04 3.88702494e-04\n",
            "  2.62247231e-05 2.71042290e-06 2.68737631e-06 6.35120925e-03\n",
            "  4.51237691e-04 5.61933848e-05]\n",
            " [2.76183982e-06 1.20854384e-06 1.00924467e-06 6.83668850e-06\n",
            "  9.90548670e-01 3.70766975e-05 3.46881075e-06 2.05160322e-04\n",
            "  7.86792580e-03 1.32582476e-03]\n",
            " [1.03824163e-06 4.54429755e-05 3.75508593e-04 2.52764882e-03\n",
            "  5.67713054e-04 1.77517984e-04 5.84999839e-07 1.11957692e-04\n",
            "  7.44934659e-05 9.96118188e-01]\n",
            " [1.42020130e-04 5.69119209e-07 7.25608692e-03 1.52531893e-05\n",
            "  7.34857167e-04 5.58652133e-02 9.34251845e-01 2.68443955e-07\n",
            "  1.64624443e-03 8.77219063e-05]\n",
            " [4.35476932e-06 3.81770171e-11 3.74406824e-07 2.64731916e-05\n",
            "  4.84609976e-03 5.28083568e-08 6.69577194e-09 1.30144972e-03\n",
            "  1.15422692e-04 9.93705809e-01]]\n"
          ],
          "name": "stdout"
        }
      ]
    },
    {
      "cell_type": "code",
      "metadata": {
        "colab": {
          "base_uri": "https://localhost:8080/",
          "height": 265
        },
        "id": "047MIjyKDsm2",
        "outputId": "bd40e162-5b73-4412-a7c3-e65cff740691"
      },
      "source": [
        "plt.imshow(X_test[1])\n",
        "plt.show()"
      ],
      "execution_count": null,
      "outputs": [
        {
          "output_type": "display_data",
          "data": {
            "image/png": "[encoded data removed]",
            "text/plain": [
              "<Figure size 432x288 with 1 Axes>"
            ]
          },
          "metadata": {
            "needs_background": "light"
          }
        }
      ]
    },
    {
      "cell_type": "code",
      "metadata": {
        "colab": {
          "base_uri": "https://localhost:8080/"
        },
        "id": "FQocLs9TFi3o",
        "outputId": "b0bcd0de-42d4-478d-ca7f-7bb1e9a4cc67"
      },
      "source": [
        "train_history.history\n"
      ],
      "execution_count": null,
      "outputs": [
        {
          "output_type": "execute_result",
          "data": {
            "text/plain": [
              "{'accuracy': [0.8441874980926514,\n",
              "  0.9157083630561829,\n",
              "  0.9354166388511658,\n",
              "  0.9467291831970215,\n",
              "  0.9568125009536743,\n",
              "  0.9628541469573975,\n",
              "  0.9684374928474426,\n",
              "  0.9724791646003723,\n",
              "  0.9758541584014893,\n",
              "  0.979729175567627],\n",
              " 'loss': [0.6388621926307678,\n",
              "  0.29774507880210876,\n",
              "  0.22910749912261963,\n",
              "  0.18546396493911743,\n",
              "  0.152441143989563,\n",
              "  0.1297166496515274,\n",
              "  0.1106581762433052,\n",
              "  0.09607218205928802,\n",
              "  0.08481647074222565,\n",
              "  0.07393589615821838],\n",
              " 'val_accuracy': [0.9104999899864197,\n",
              "  0.9317499995231628,\n",
              "  0.9435833096504211,\n",
              "  0.9524166584014893,\n",
              "  0.9578333497047424,\n",
              "  0.9624999761581421,\n",
              "  0.9642500281333923,\n",
              "  0.9670000076293945,\n",
              "  0.9693333506584167,\n",
              "  0.9707499742507935],\n",
              " 'val_loss': [0.33250051736831665,\n",
              "  0.24478808045387268,\n",
              "  0.20165503025054932,\n",
              "  0.16640841960906982,\n",
              "  0.14446403086185455,\n",
              "  0.13094298541545868,\n",
              "  0.1218918114900589,\n",
              "  0.11323719471693039,\n",
              "  0.10530684143304825,\n",
              "  0.09892291575670242]}"
            ]
          },
          "metadata": {},
          "execution_count": 8
        }
      ]
    },
    {
      "cell_type": "code",
      "metadata": {
        "colab": {
          "base_uri": "https://localhost:8080/",
          "height": 279
        },
        "id": "yfbApMk-FEKU",
        "outputId": "2344e782-8b2d-4c3f-a7c0-268650d22829"
      },
      "source": [
        "plt.plot(train_history.history['loss'])\n",
        "plt.plot(train_history.history['val_loss'])\n",
        "plt.ylabel('loss')\n",
        "plt.xlabel('Epoch')\n",
        "plt.legend(['loss','val_loss'], loc = 'upper left')\n",
        "plt.show()"
      ],
      "execution_count": null,
      "outputs": [
        {
          "output_type": "display_data",
          "data": {
            "image/png": "[encoded data removed]",
            "text/plain": [
              "<Figure size 432x288 with 1 Axes>"
            ]
          },
          "metadata": {
            "needs_background": "light"
          }
        }
      ]
    }
  ]
}